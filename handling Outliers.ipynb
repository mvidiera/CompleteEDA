{
 "cells": [
  {
   "cell_type": "markdown",
   "id": "ace98577",
   "metadata": {},
   "source": [
    "# Outliers and their impact on machine learning\n",
    "\n",
    "An outlier is a data point that is noticeably different from the rest. They represent errors in measurement, bad data collection, or simply show variables not considered when collecting the data\n",
    "\n",
    "\n",
    "- Outliers can be beneficial for some of usecase. \n",
    "- ex: Credit card fraud, network traffic company.\n",
    "- Suspicious things in credit card info willbe an outlier as it is not matching with the existing things like legitimate credit card info. \n",
    "- In network, hackers may enter with different info and that would be outlier as it is not matching\n",
    "- Medical: cancer prediction. Some info will be outlier and it can be related to cancer and that is much need in predictions \n",
    "\n",
    "#### Should we remove outliers? \n",
    "\n",
    "##### Titanic\n",
    "- Depending on context and use case, outliers deserves attention. \n",
    "- In some of usecases we can ignore completely.\n",
    "- In titanic dataset, we can remove outliers. Because the prediction is \"Whether the person is surviving or not\". As it was an accident we can not say that because of age/fare that person is either survived or not. \n",
    "- If I think otherwise, gender= female and kids (with less age) was given more importance to vacate the cruise before men. \n",
    "- But in titanic dataset, age outliers are 80+. \n",
    "- This is how we need to decide whether to keep the outliers or exclude. \n",
    "\n",
    "\n",
    "##### Sales forcecasting \n",
    "- There are sudden spikes which make outliers. Should we keep it or not? \n",
    "- These spikes are important, because something would have caused spike. \n",
    "- This is why we shouldn't delete outliers. \n",
    "\n"
   ]
  },
  {
   "cell_type": "markdown",
   "id": "641ec383",
   "metadata": {},
   "source": [
    "## Which machine learning models which are sensitive to Outliers? \n",
    "\n",
    "1. <b>Naive Bayes </b>:------------------Not sensitive to outliers\n",
    "2. <b>SVM </b>:--------------------------Not sensitive. \n",
    "3. <b>Linear Regression </b>:------------Sensitive to outliers \n",
    "4. <b>Logistic Regression </b> :         Sensitive\n",
    "5. <b>Decision tree regressor or classifier </b>: Not sensitive to outliers\n",
    "6. <b>Ensemble (random forest, XGBoost, GB) </b>: Not sensitive (as decision tree is not sensitive, all mentioned here are not)\n",
    "7. <b>KNN </b>: -------------------------Sensitive to outliers (eucledian distance)  (doubt)\n",
    "- If ther are less outliers, and I have selected k=3, nearest ones are clustered and the outliers are left out. By this we can say that the KNN is not sensitive. \n",
    "8. <b>K means </b>:---------------------Sensitive to outliers (eucledian distance) \n",
    "9. <b>Heirachical </b>:-----------------Sensitive \n",
    "10. <b>PCA </b>: -----------------------Extremely Sensitive\n",
    "- When I have, variance is focused in PCA and if there are outliers then variance cant be captured correctly.\n",
    "11. <b>Neural Networks </b>:------------Sensitive\n",
    "- If NN has outliers, and when weights are multiplied then weight calculation and also updating will be incorrect. \n",
    "12. <b>LDA </b>---------------------------------"
   ]
  },
  {
   "cell_type": "code",
   "execution_count": 3,
   "id": "8e5d8e53",
   "metadata": {},
   "outputs": [],
   "source": [
    "import pandas as pd\n",
    "import numpy as np\n",
    "import seaborn as sns"
   ]
  },
  {
   "cell_type": "code",
   "execution_count": 2,
   "id": "4db65aa6",
   "metadata": {},
   "outputs": [
    {
     "data": {
      "text/html": [
       "<div>\n",
       "<style scoped>\n",
       "    .dataframe tbody tr th:only-of-type {\n",
       "        vertical-align: middle;\n",
       "    }\n",
       "\n",
       "    .dataframe tbody tr th {\n",
       "        vertical-align: top;\n",
       "    }\n",
       "\n",
       "    .dataframe thead th {\n",
       "        text-align: right;\n",
       "    }\n",
       "</style>\n",
       "<table border=\"1\" class=\"dataframe\">\n",
       "  <thead>\n",
       "    <tr style=\"text-align: right;\">\n",
       "      <th></th>\n",
       "      <th>PassengerId</th>\n",
       "      <th>Survived</th>\n",
       "      <th>Pclass</th>\n",
       "      <th>Name</th>\n",
       "      <th>Sex</th>\n",
       "      <th>Age</th>\n",
       "      <th>SibSp</th>\n",
       "      <th>Parch</th>\n",
       "      <th>Ticket</th>\n",
       "      <th>Fare</th>\n",
       "      <th>Cabin</th>\n",
       "      <th>Embarked</th>\n",
       "    </tr>\n",
       "  </thead>\n",
       "  <tbody>\n",
       "    <tr>\n",
       "      <th>0</th>\n",
       "      <td>1</td>\n",
       "      <td>0</td>\n",
       "      <td>3</td>\n",
       "      <td>Braund, Mr. Owen Harris</td>\n",
       "      <td>male</td>\n",
       "      <td>22.0</td>\n",
       "      <td>1</td>\n",
       "      <td>0</td>\n",
       "      <td>A/5 21171</td>\n",
       "      <td>7.2500</td>\n",
       "      <td>NaN</td>\n",
       "      <td>S</td>\n",
       "    </tr>\n",
       "    <tr>\n",
       "      <th>1</th>\n",
       "      <td>2</td>\n",
       "      <td>1</td>\n",
       "      <td>1</td>\n",
       "      <td>Cumings, Mrs. John Bradley (Florence Briggs Th...</td>\n",
       "      <td>female</td>\n",
       "      <td>38.0</td>\n",
       "      <td>1</td>\n",
       "      <td>0</td>\n",
       "      <td>PC 17599</td>\n",
       "      <td>71.2833</td>\n",
       "      <td>C85</td>\n",
       "      <td>C</td>\n",
       "    </tr>\n",
       "    <tr>\n",
       "      <th>2</th>\n",
       "      <td>3</td>\n",
       "      <td>1</td>\n",
       "      <td>3</td>\n",
       "      <td>Heikkinen, Miss. Laina</td>\n",
       "      <td>female</td>\n",
       "      <td>26.0</td>\n",
       "      <td>0</td>\n",
       "      <td>0</td>\n",
       "      <td>STON/O2. 3101282</td>\n",
       "      <td>7.9250</td>\n",
       "      <td>NaN</td>\n",
       "      <td>S</td>\n",
       "    </tr>\n",
       "    <tr>\n",
       "      <th>3</th>\n",
       "      <td>4</td>\n",
       "      <td>1</td>\n",
       "      <td>1</td>\n",
       "      <td>Futrelle, Mrs. Jacques Heath (Lily May Peel)</td>\n",
       "      <td>female</td>\n",
       "      <td>35.0</td>\n",
       "      <td>1</td>\n",
       "      <td>0</td>\n",
       "      <td>113803</td>\n",
       "      <td>53.1000</td>\n",
       "      <td>C123</td>\n",
       "      <td>S</td>\n",
       "    </tr>\n",
       "    <tr>\n",
       "      <th>4</th>\n",
       "      <td>5</td>\n",
       "      <td>0</td>\n",
       "      <td>3</td>\n",
       "      <td>Allen, Mr. William Henry</td>\n",
       "      <td>male</td>\n",
       "      <td>35.0</td>\n",
       "      <td>0</td>\n",
       "      <td>0</td>\n",
       "      <td>373450</td>\n",
       "      <td>8.0500</td>\n",
       "      <td>NaN</td>\n",
       "      <td>S</td>\n",
       "    </tr>\n",
       "  </tbody>\n",
       "</table>\n",
       "</div>"
      ],
      "text/plain": [
       "   PassengerId  Survived  Pclass  \\\n",
       "0            1         0       3   \n",
       "1            2         1       1   \n",
       "2            3         1       3   \n",
       "3            4         1       1   \n",
       "4            5         0       3   \n",
       "\n",
       "                                                Name     Sex   Age  SibSp  \\\n",
       "0                            Braund, Mr. Owen Harris    male  22.0      1   \n",
       "1  Cumings, Mrs. John Bradley (Florence Briggs Th...  female  38.0      1   \n",
       "2                             Heikkinen, Miss. Laina  female  26.0      0   \n",
       "3       Futrelle, Mrs. Jacques Heath (Lily May Peel)  female  35.0      1   \n",
       "4                           Allen, Mr. William Henry    male  35.0      0   \n",
       "\n",
       "   Parch            Ticket     Fare Cabin Embarked  \n",
       "0      0         A/5 21171   7.2500   NaN        S  \n",
       "1      0          PC 17599  71.2833   C85        C  \n",
       "2      0  STON/O2. 3101282   7.9250   NaN        S  \n",
       "3      0            113803  53.1000  C123        S  \n",
       "4      0            373450   8.0500   NaN        S  "
      ]
     },
     "execution_count": 2,
     "metadata": {},
     "output_type": "execute_result"
    }
   ],
   "source": [
    "df= pd.read_csv('titanic.csv')\n",
    "df.head()"
   ]
  },
  {
   "cell_type": "code",
   "execution_count": 4,
   "id": "897da543",
   "metadata": {},
   "outputs": [
    {
     "data": {
      "text/plain": [
       "177"
      ]
     },
     "execution_count": 4,
     "metadata": {},
     "output_type": "execute_result"
    }
   ],
   "source": [
    "df[\"Age\"].isnull().sum()"
   ]
  },
  {
   "cell_type": "code",
   "execution_count": 5,
   "id": "509203c6",
   "metadata": {},
   "outputs": [
    {
     "name": "stderr",
     "output_type": "stream",
     "text": [
      "/Users/melissavidiera/opt/anaconda3/lib/python3.8/site-packages/seaborn/distributions.py:2619: FutureWarning: `distplot` is a deprecated function and will be removed in a future version. Please adapt your code to use either `displot` (a figure-level function with similar flexibility) or `histplot` (an axes-level function for histograms).\n",
      "  warnings.warn(msg, FutureWarning)\n"
     ]
    },
    {
     "data": {
      "text/plain": [
       "<AxesSubplot:xlabel='Age', ylabel='Density'>"
      ]
     },
     "execution_count": 5,
     "metadata": {},
     "output_type": "execute_result"
    },
    {
     "data": {
      "image/png": "[encoded data removed]",
      "text/plain": [
       "<Figure size 432x288 with 1 Axes>"
      ]
     },
     "metadata": {
      "needs_background": "light"
     },
     "output_type": "display_data"
    }
   ],
   "source": [
    "sns.distplot(df[\"Age\"].dropna())\n",
    "\n",
    "#age doesnt have much outliere and is normal distribution. Lets take one with outliers"
   ]
  },
  {
   "cell_type": "code",
   "execution_count": 7,
   "id": "f12bb20b",
   "metadata": {},
   "outputs": [
    {
     "name": "stderr",
     "output_type": "stream",
     "text": [
      "/Users/melissavidiera/opt/anaconda3/lib/python3.8/site-packages/seaborn/distributions.py:2619: FutureWarning: `distplot` is a deprecated function and will be removed in a future version. Please adapt your code to use either `displot` (a figure-level function with similar flexibility) or `histplot` (an axes-level function for histograms).\n",
      "  warnings.warn(msg, FutureWarning)\n"
     ]
    },
    {
     "data": {
      "text/plain": [
       "<AxesSubplot:xlabel='Age', ylabel='Density'>"
      ]
     },
     "execution_count": 7,
     "metadata": {},
     "output_type": "execute_result"
    },
    {
     "data": {
      "image/png": "[encoded data removed]",
      "text/plain": [
       "<Figure size 432x288 with 1 Axes>"
      ]
     },
     "metadata": {
      "needs_background": "light"
     },
     "output_type": "display_data"
    }
   ],
   "source": [
    "# create a new outliers\n",
    "# as there are lot of na values in Age, fill it with some higher number so that we get outliers\n",
    "# within the graph, fill na with 100, not in df. \n",
    "\n",
    "sns.distplot(df[\"Age\"].fillna(100))"
   ]
  },
  {
   "cell_type": "markdown",
   "id": "411d4a98",
   "metadata": {},
   "source": [
    "### Dealing with outliers in Gaussian Distribution "
   ]
  },
  {
   "cell_type": "code",
   "execution_count": 10,
   "id": "1e1ff3ac",
   "metadata": {},
   "outputs": [
    {
     "data": {
      "text/plain": [
       "Text(0, 0.5, 'Number of passengers')"
      ]
     },
     "execution_count": 10,
     "metadata": {},
     "output_type": "execute_result"
    },
    {
     "data": {
      "image/png": "[encoded data removed]",
      "text/plain": [
       "<Figure size 432x288 with 1 Axes>"
      ]
     },
     "metadata": {
      "needs_background": "light"
     },
     "output_type": "display_data"
    }
   ],
   "source": [
    "\n",
    "figure= df.Age.hist(bins= 50)\n",
    "figure.set_title(\"Age\")\n",
    "figure.set_xlabel('Age')\n",
    "figure.set_ylabel('Number of passengers')\n",
    "\n",
    "#here age is following normal (gaussian) distribution. Not exaclty normal, but in a way"
   ]
  },
  {
   "cell_type": "code",
   "execution_count": 13,
   "id": "2146107d",
   "metadata": {},
   "outputs": [
    {
     "data": {
      "image/png": "[encoded data removed]",
      "text/plain": [
       "<Figure size 432x288 with 1 Axes>"
      ]
     },
     "metadata": {
      "needs_background": "light"
     },
     "output_type": "display_data"
    }
   ],
   "source": [
    "#to find outliers, use boxplot\n",
    "\n",
    "figure=df.boxplot(column=\"Age\")\n",
    "\n",
    "#dotted points are outliers\n",
    "#even though I havent filled nan value, there are outliers"
   ]
  },
  {
   "cell_type": "code",
   "execution_count": 14,
   "id": "5638015c",
   "metadata": {},
   "outputs": [
    {
     "data": {
      "text/plain": [
       "count    714.000000\n",
       "mean      29.699118\n",
       "std       14.526497\n",
       "min        0.420000\n",
       "25%       20.125000\n",
       "50%       28.000000\n",
       "75%       38.000000\n",
       "max       80.000000\n",
       "Name: Age, dtype: float64"
      ]
     },
     "execution_count": 14,
     "metadata": {},
     "output_type": "execute_result"
    }
   ],
   "source": [
    "df[\"Age\"].describe()"
   ]
  },
  {
   "cell_type": "markdown",
   "id": "a2adce15",
   "metadata": {},
   "source": [
    "#### Assuming age follows gaussian distribution, we will calculate the boundaries which differetiates the outliers (imp)\n",
    "\n",
    "- If we partition with 3 standard deviations in right and left. \n",
    "- Partition the guassian data with mean (middle line), consider the 3 standard deviation on the left and right. \n",
    "- Now consider outliers as the data which does not belong to these 3 std deviations\n",
    "- ie, left of negative standard deviation and right of positive standard deviation \n",
    "\n",
    "How?\n",
    "- to calculate upper boundary: Calculate mean, add with 3(age.standard deviation) multiplied by 3\n",
    "- to calculate upper boundary: Calculate mean, subtract with 3(age.standard deviation) multiplied by 3"
   ]
  },
  {
   "cell_type": "code",
   "execution_count": 24,
   "id": "1e057d0c",
   "metadata": {},
   "outputs": [
    {
     "name": "stdout",
     "output_type": "stream",
     "text": [
      "Upper Boundary:  73.27860964406095\n",
      "Lower Boundary: -13.88037434994331\n",
      "Mean value of Age: 29.69911764705882\n"
     ]
    }
   ],
   "source": [
    "upper_bound= df[\"Age\"].mean()+ 3* df[\"Age\"].std()\n",
    "lower_bound= df[\"Age\"].mean()- 3* df[\"Age\"].std()\n",
    "\n",
    "print(\"Upper Boundary: \" ,upper_bound)\n",
    "print(\"Lower Boundary:\", lower_bound)\n",
    "print(\"Mean value of Age:\", df[\"Age\"].mean())\n",
    "\n",
    "#in age we do not have negative values"
   ]
  },
  {
   "cell_type": "code",
   "execution_count": 25,
   "id": "09fb00a0",
   "metadata": {},
   "outputs": [
    {
     "data": {
      "text/plain": [
       "17.875"
      ]
     },
     "execution_count": 25,
     "metadata": {},
     "output_type": "execute_result"
    }
   ],
   "source": [
    "# as age can not be negative \n",
    "\n",
    "\n",
    "#computing Inter Quantile Range (IQR) to calculate boundaries using quantile()\n",
    "# IQR= 75 percentile - 25 percentile\n",
    "\n",
    "IQR= df.Age.quantile(0.75)- df.Age.quantile(0.25)\n",
    "IQR\n",
    "\n",
    "#IQR is calculated because we are taking outliers which falls after 75 percentile(after 3/4th)  \n",
    "#and before 25 percentile (before 1/4th)"
   ]
  },
  {
   "cell_type": "code",
   "execution_count": 26,
   "id": "cd7e7943",
   "metadata": {},
   "outputs": [],
   "source": [
    "lower_bridge=df[\"Age\"].quantile(0.25)-(IQR*1.5)#calculate 0.25 quantile and subtract so that we can take left\n",
    "upper_bridge=df[\"Age\"].quantile(0.75)+(IQR*1.5)#calculate 0.75 quantile & add so that we can take data in right\n",
    "#1.5 value is set by domain person, normally for gaussian dist, we wil take IQR*1.5"
   ]
  },
  {
   "cell_type": "code",
   "execution_count": 27,
   "id": "91af2527",
   "metadata": {},
   "outputs": [
    {
     "name": "stdout",
     "output_type": "stream",
     "text": [
      "-6.6875\n",
      "64.8125\n"
     ]
    }
   ],
   "source": [
    "print(lower_bridge)\n",
    "print(upper_bridge)\n",
    "#age cant be negative, so we can not consider that as outlier"
   ]
  },
  {
   "cell_type": "code",
   "execution_count": 28,
   "id": "2ea30009",
   "metadata": {},
   "outputs": [],
   "source": [
    "# to calculate very extreme boundaries, we multiply IQR by 3 (rather than 1.5)\n",
    "extreme_lower_bridge=df[\"Age\"].quantile(0.25)-(IQR*3)\n",
    "extreme_upper_bridge=df[\"Age\"].quantile(0.75)+(IQR*3)"
   ]
  },
  {
   "cell_type": "code",
   "execution_count": 29,
   "id": "429625ea",
   "metadata": {},
   "outputs": [
    {
     "name": "stdout",
     "output_type": "stream",
     "text": [
      "-33.5\n",
      "91.625\n"
     ]
    }
   ],
   "source": [
    "print(extreme_lower_bridge)\n",
    "print(extreme_upper_bridge)"
   ]
  },
  {
   "cell_type": "markdown",
   "id": "9d2481c2",
   "metadata": {},
   "source": [
    "## When features are skewed"
   ]
  },
  {
   "cell_type": "code",
   "execution_count": 31,
   "id": "e44339ba",
   "metadata": {},
   "outputs": [
    {
     "data": {
      "text/plain": [
       "Text(0, 0.5, 'Number of passengers')"
      ]
     },
     "execution_count": 31,
     "metadata": {},
     "output_type": "execute_result"
    },
    {
     "data": {
      "image/png": "[encoded data removed]",
      "text/plain": [
       "<Figure size 432x288 with 1 Axes>"
      ]
     },
     "metadata": {
      "needs_background": "light"
     },
     "output_type": "display_data"
    }
   ],
   "source": [
    "figure= df.Fare.hist(bins= 50)\n",
    "figure.set_title(\"Fare\")\n",
    "figure.set_xlabel('Fare')\n",
    "figure.set_ylabel('Number of passengers')\n",
    "\n",
    "# data here are clearly right skewed. "
   ]
  },
  {
   "cell_type": "code",
   "execution_count": 33,
   "id": "a3da2c1d",
   "metadata": {},
   "outputs": [
    {
     "data": {
      "image/png": "[encoded data removed]",
      "text/plain": [
       "<Figure size 432x288 with 1 Axes>"
      ]
     },
     "metadata": {
      "needs_background": "light"
     },
     "output_type": "display_data"
    }
   ],
   "source": [
    "figure=df.boxplot(column=\"Fare\")\n",
    "#so many outliers"
   ]
  },
  {
   "cell_type": "code",
   "execution_count": 34,
   "id": "bb119ded",
   "metadata": {},
   "outputs": [
    {
     "data": {
      "text/plain": [
       "count    891.000000\n",
       "mean      32.204208\n",
       "std       49.693429\n",
       "min        0.000000\n",
       "25%        7.910400\n",
       "50%       14.454200\n",
       "75%       31.000000\n",
       "max      512.329200\n",
       "Name: Fare, dtype: float64"
      ]
     },
     "execution_count": 34,
     "metadata": {},
     "output_type": "execute_result"
    }
   ],
   "source": [
    "df[\"Fare\"].describe()\n",
    "#distance btw Max and 75% is pretty huge, which says that there are lots of outliers\n"
   ]
  },
  {
   "cell_type": "code",
   "execution_count": 38,
   "id": "6f3061d9",
   "metadata": {},
   "outputs": [
    {
     "data": {
      "text/plain": [
       "23.0896"
      ]
     },
     "execution_count": 38,
     "metadata": {},
     "output_type": "execute_result"
    }
   ],
   "source": [
    "#when the data is gaussian, we calculated upper and lower boundary. \n",
    "\n",
    "# as here the data is skewed, we need will directly consider upper and lower bridge (dont calculate boundaries)\n",
    "\n",
    "IQR= df.Fare.quantile(0.75)- df.Fare.quantile(0.25)\n",
    "IQR"
   ]
  },
  {
   "cell_type": "code",
   "execution_count": 39,
   "id": "fb203d5d",
   "metadata": {},
   "outputs": [],
   "source": [
    "lower_bridge=df[\"Fare\"].quantile(0.25)-(IQR*1.5)\n",
    "upper_bridge=df[\"Fare\"].quantile(0.75)+(IQR*1.5)"
   ]
  },
  {
   "cell_type": "code",
   "execution_count": 40,
   "id": "399c411b",
   "metadata": {},
   "outputs": [
    {
     "name": "stdout",
     "output_type": "stream",
     "text": [
      "-26.724\n",
      "65.6344\n"
     ]
    }
   ],
   "source": [
    "print(lower_bridge)\n",
    "print(upper_bridge)\n",
    "\n",
    "#here I can see that the upper is 65, but my max is 512, so I will find extreme outlier "
   ]
  },
  {
   "cell_type": "code",
   "execution_count": 42,
   "id": "daae27d5",
   "metadata": {},
   "outputs": [
    {
     "name": "stdout",
     "output_type": "stream",
     "text": [
      "-61.358399999999996\n",
      "100.2688\n"
     ]
    }
   ],
   "source": [
    "#Always consider extreme outliers in skewed data\n",
    "\n",
    "extreme_lower_bridge=df[\"Fare\"].quantile(0.25)-(IQR*3)\n",
    "extreme_upper_bridge=df[\"Fare\"].quantile(0.75)+(IQR*3)\n",
    "print(extreme_lower_bridge)\n",
    "print(extreme_upper_bridge)\n",
    "\n",
    "#fare can not be negative, hence I am not considering -61\n",
    "#still better than considering INQ*3"
   ]
  },
  {
   "cell_type": "markdown",
   "id": "20b904e4",
   "metadata": {},
   "source": [
    "# Replacing outliers\n",
    "\n",
    "- I found that outlier for age is 73 and fare is 100 "
   ]
  },
  {
   "cell_type": "code",
   "execution_count": null,
   "id": "cfa72cab",
   "metadata": {},
   "outputs": [],
   "source": [
    "# WRT age outlier is 73 "
   ]
  },
  {
   "cell_type": "code",
   "execution_count": 44,
   "id": "8055dcdd",
   "metadata": {},
   "outputs": [],
   "source": [
    "data= df.copy()"
   ]
  },
  {
   "cell_type": "code",
   "execution_count": 48,
   "id": "2417f12a",
   "metadata": {},
   "outputs": [],
   "source": [
    "#wherever the data df's row is greater than 73 wrt age feature-> then replace all those with 73. \n",
    "data.loc[data[\"Age\"]> 73, \"Age\"]=73"
   ]
  },
  {
   "cell_type": "code",
   "execution_count": 56,
   "id": "747edbca",
   "metadata": {},
   "outputs": [
    {
     "data": {
      "text/plain": [
       "Text(0, 0.5, 'Number of passengers')"
      ]
     },
     "execution_count": 56,
     "metadata": {},
     "output_type": "execute_result"
    },
    {
     "data": {
      "image/png": "[encoded data removed]",
      "text/plain": [
       "<Figure size 432x288 with 1 Axes>"
      ]
     },
     "metadata": {
      "needs_background": "light"
     },
     "output_type": "display_data"
    }
   ],
   "source": [
    "figure= data.Age.hist(bins= 50)\n",
    "figure.set_title(\"Age\")\n",
    "figure.set_xlabel('Age')\n",
    "figure.set_ylabel('Number of passengers')\n",
    "\n",
    "#73 is last point on age"
   ]
  },
  {
   "cell_type": "code",
   "execution_count": 49,
   "id": "b7b0ad76",
   "metadata": {},
   "outputs": [
    {
     "data": {
      "text/html": [
       "<div>\n",
       "<style scoped>\n",
       "    .dataframe tbody tr th:only-of-type {\n",
       "        vertical-align: middle;\n",
       "    }\n",
       "\n",
       "    .dataframe tbody tr th {\n",
       "        vertical-align: top;\n",
       "    }\n",
       "\n",
       "    .dataframe thead th {\n",
       "        text-align: right;\n",
       "    }\n",
       "</style>\n",
       "<table border=\"1\" class=\"dataframe\">\n",
       "  <thead>\n",
       "    <tr style=\"text-align: right;\">\n",
       "      <th></th>\n",
       "      <th>PassengerId</th>\n",
       "      <th>Survived</th>\n",
       "      <th>Pclass</th>\n",
       "      <th>Name</th>\n",
       "      <th>Sex</th>\n",
       "      <th>Age</th>\n",
       "      <th>SibSp</th>\n",
       "      <th>Parch</th>\n",
       "      <th>Ticket</th>\n",
       "      <th>Fare</th>\n",
       "      <th>Cabin</th>\n",
       "      <th>Embarked</th>\n",
       "    </tr>\n",
       "  </thead>\n",
       "  <tbody>\n",
       "    <tr>\n",
       "      <th>0</th>\n",
       "      <td>1</td>\n",
       "      <td>0</td>\n",
       "      <td>3</td>\n",
       "      <td>Braund, Mr. Owen Harris</td>\n",
       "      <td>male</td>\n",
       "      <td>22.0</td>\n",
       "      <td>1</td>\n",
       "      <td>0</td>\n",
       "      <td>A/5 21171</td>\n",
       "      <td>7.2500</td>\n",
       "      <td>NaN</td>\n",
       "      <td>S</td>\n",
       "    </tr>\n",
       "    <tr>\n",
       "      <th>1</th>\n",
       "      <td>2</td>\n",
       "      <td>1</td>\n",
       "      <td>1</td>\n",
       "      <td>Cumings, Mrs. John Bradley (Florence Briggs Th...</td>\n",
       "      <td>female</td>\n",
       "      <td>38.0</td>\n",
       "      <td>1</td>\n",
       "      <td>0</td>\n",
       "      <td>PC 17599</td>\n",
       "      <td>71.2833</td>\n",
       "      <td>C85</td>\n",
       "      <td>C</td>\n",
       "    </tr>\n",
       "    <tr>\n",
       "      <th>2</th>\n",
       "      <td>3</td>\n",
       "      <td>1</td>\n",
       "      <td>3</td>\n",
       "      <td>Heikkinen, Miss. Laina</td>\n",
       "      <td>female</td>\n",
       "      <td>26.0</td>\n",
       "      <td>0</td>\n",
       "      <td>0</td>\n",
       "      <td>STON/O2. 3101282</td>\n",
       "      <td>7.9250</td>\n",
       "      <td>NaN</td>\n",
       "      <td>S</td>\n",
       "    </tr>\n",
       "    <tr>\n",
       "      <th>3</th>\n",
       "      <td>4</td>\n",
       "      <td>1</td>\n",
       "      <td>1</td>\n",
       "      <td>Futrelle, Mrs. Jacques Heath (Lily May Peel)</td>\n",
       "      <td>female</td>\n",
       "      <td>35.0</td>\n",
       "      <td>1</td>\n",
       "      <td>0</td>\n",
       "      <td>113803</td>\n",
       "      <td>53.1000</td>\n",
       "      <td>C123</td>\n",
       "      <td>S</td>\n",
       "    </tr>\n",
       "    <tr>\n",
       "      <th>4</th>\n",
       "      <td>5</td>\n",
       "      <td>0</td>\n",
       "      <td>3</td>\n",
       "      <td>Allen, Mr. William Henry</td>\n",
       "      <td>male</td>\n",
       "      <td>35.0</td>\n",
       "      <td>0</td>\n",
       "      <td>0</td>\n",
       "      <td>373450</td>\n",
       "      <td>8.0500</td>\n",
       "      <td>NaN</td>\n",
       "      <td>S</td>\n",
       "    </tr>\n",
       "  </tbody>\n",
       "</table>\n",
       "</div>"
      ],
      "text/plain": [
       "   PassengerId  Survived  Pclass  \\\n",
       "0            1         0       3   \n",
       "1            2         1       1   \n",
       "2            3         1       3   \n",
       "3            4         1       1   \n",
       "4            5         0       3   \n",
       "\n",
       "                                                Name     Sex   Age  SibSp  \\\n",
       "0                            Braund, Mr. Owen Harris    male  22.0      1   \n",
       "1  Cumings, Mrs. John Bradley (Florence Briggs Th...  female  38.0      1   \n",
       "2                             Heikkinen, Miss. Laina  female  26.0      0   \n",
       "3       Futrelle, Mrs. Jacques Heath (Lily May Peel)  female  35.0      1   \n",
       "4                           Allen, Mr. William Henry    male  35.0      0   \n",
       "\n",
       "   Parch            Ticket     Fare Cabin Embarked  \n",
       "0      0         A/5 21171   7.2500   NaN        S  \n",
       "1      0          PC 17599  71.2833   C85        C  \n",
       "2      0  STON/O2. 3101282   7.9250   NaN        S  \n",
       "3      0            113803  53.1000  C123        S  \n",
       "4      0            373450   8.0500   NaN        S  "
      ]
     },
     "execution_count": 49,
     "metadata": {},
     "output_type": "execute_result"
    }
   ],
   "source": [
    "data.head()"
   ]
  },
  {
   "cell_type": "code",
   "execution_count": 50,
   "id": "fdefc1b6",
   "metadata": {},
   "outputs": [],
   "source": [
    "data.loc[data[\"Fare\"]>=100, \"Fare\"]=100"
   ]
  },
  {
   "cell_type": "code",
   "execution_count": 54,
   "id": "095d541f",
   "metadata": {},
   "outputs": [
    {
     "data": {
      "text/html": [
       "<div>\n",
       "<style scoped>\n",
       "    .dataframe tbody tr th:only-of-type {\n",
       "        vertical-align: middle;\n",
       "    }\n",
       "\n",
       "    .dataframe tbody tr th {\n",
       "        vertical-align: top;\n",
       "    }\n",
       "\n",
       "    .dataframe thead th {\n",
       "        text-align: right;\n",
       "    }\n",
       "</style>\n",
       "<table border=\"1\" class=\"dataframe\">\n",
       "  <thead>\n",
       "    <tr style=\"text-align: right;\">\n",
       "      <th></th>\n",
       "      <th>PassengerId</th>\n",
       "      <th>Survived</th>\n",
       "      <th>Pclass</th>\n",
       "      <th>Name</th>\n",
       "      <th>Sex</th>\n",
       "      <th>Age</th>\n",
       "      <th>SibSp</th>\n",
       "      <th>Parch</th>\n",
       "      <th>Ticket</th>\n",
       "      <th>Fare</th>\n",
       "      <th>Cabin</th>\n",
       "      <th>Embarked</th>\n",
       "    </tr>\n",
       "  </thead>\n",
       "  <tbody>\n",
       "    <tr>\n",
       "      <th>0</th>\n",
       "      <td>1</td>\n",
       "      <td>0</td>\n",
       "      <td>3</td>\n",
       "      <td>Braund, Mr. Owen Harris</td>\n",
       "      <td>male</td>\n",
       "      <td>22.0</td>\n",
       "      <td>1</td>\n",
       "      <td>0</td>\n",
       "      <td>A/5 21171</td>\n",
       "      <td>7.2500</td>\n",
       "      <td>NaN</td>\n",
       "      <td>S</td>\n",
       "    </tr>\n",
       "    <tr>\n",
       "      <th>1</th>\n",
       "      <td>2</td>\n",
       "      <td>1</td>\n",
       "      <td>1</td>\n",
       "      <td>Cumings, Mrs. John Bradley (Florence Briggs Th...</td>\n",
       "      <td>female</td>\n",
       "      <td>38.0</td>\n",
       "      <td>1</td>\n",
       "      <td>0</td>\n",
       "      <td>PC 17599</td>\n",
       "      <td>71.2833</td>\n",
       "      <td>C85</td>\n",
       "      <td>C</td>\n",
       "    </tr>\n",
       "    <tr>\n",
       "      <th>2</th>\n",
       "      <td>3</td>\n",
       "      <td>1</td>\n",
       "      <td>3</td>\n",
       "      <td>Heikkinen, Miss. Laina</td>\n",
       "      <td>female</td>\n",
       "      <td>26.0</td>\n",
       "      <td>0</td>\n",
       "      <td>0</td>\n",
       "      <td>STON/O2. 3101282</td>\n",
       "      <td>7.9250</td>\n",
       "      <td>NaN</td>\n",
       "      <td>S</td>\n",
       "    </tr>\n",
       "    <tr>\n",
       "      <th>3</th>\n",
       "      <td>4</td>\n",
       "      <td>1</td>\n",
       "      <td>1</td>\n",
       "      <td>Futrelle, Mrs. Jacques Heath (Lily May Peel)</td>\n",
       "      <td>female</td>\n",
       "      <td>35.0</td>\n",
       "      <td>1</td>\n",
       "      <td>0</td>\n",
       "      <td>113803</td>\n",
       "      <td>53.1000</td>\n",
       "      <td>C123</td>\n",
       "      <td>S</td>\n",
       "    </tr>\n",
       "    <tr>\n",
       "      <th>4</th>\n",
       "      <td>5</td>\n",
       "      <td>0</td>\n",
       "      <td>3</td>\n",
       "      <td>Allen, Mr. William Henry</td>\n",
       "      <td>male</td>\n",
       "      <td>35.0</td>\n",
       "      <td>0</td>\n",
       "      <td>0</td>\n",
       "      <td>373450</td>\n",
       "      <td>8.0500</td>\n",
       "      <td>NaN</td>\n",
       "      <td>S</td>\n",
       "    </tr>\n",
       "  </tbody>\n",
       "</table>\n",
       "</div>"
      ],
      "text/plain": [
       "   PassengerId  Survived  Pclass  \\\n",
       "0            1         0       3   \n",
       "1            2         1       1   \n",
       "2            3         1       3   \n",
       "3            4         1       1   \n",
       "4            5         0       3   \n",
       "\n",
       "                                                Name     Sex   Age  SibSp  \\\n",
       "0                            Braund, Mr. Owen Harris    male  22.0      1   \n",
       "1  Cumings, Mrs. John Bradley (Florence Briggs Th...  female  38.0      1   \n",
       "2                             Heikkinen, Miss. Laina  female  26.0      0   \n",
       "3       Futrelle, Mrs. Jacques Heath (Lily May Peel)  female  35.0      1   \n",
       "4                           Allen, Mr. William Henry    male  35.0      0   \n",
       "\n",
       "   Parch            Ticket     Fare Cabin Embarked  \n",
       "0      0         A/5 21171   7.2500   NaN        S  \n",
       "1      0          PC 17599  71.2833   C85        C  \n",
       "2      0  STON/O2. 3101282   7.9250   NaN        S  \n",
       "3      0            113803  53.1000  C123        S  \n",
       "4      0            373450   8.0500   NaN        S  "
      ]
     },
     "execution_count": 54,
     "metadata": {},
     "output_type": "execute_result"
    }
   ],
   "source": [
    "data.head()"
   ]
  },
  {
   "cell_type": "code",
   "execution_count": 55,
   "id": "e65a27b2",
   "metadata": {},
   "outputs": [
    {
     "data": {
      "text/plain": [
       "Text(0, 0.5, 'Number of passengers')"
      ]
     },
     "execution_count": 55,
     "metadata": {},
     "output_type": "execute_result"
    },
    {
     "data": {
      "image/png": "[encoded data removed]",
      "text/plain": [
       "<Figure size 432x288 with 1 Axes>"
      ]
     },
     "metadata": {
      "needs_background": "light"
     },
     "output_type": "display_data"
    }
   ],
   "source": [
    "figure= data.Fare.hist(bins= 50)\n",
    "figure.set_title(\"Fare\")\n",
    "figure.set_xlabel('Fare')\n",
    "figure.set_ylabel('Number of passengers')\n",
    "\n",
    "#here I can see that the max fare is 100 (before it was 5oo euros)"
   ]
  },
  {
   "cell_type": "markdown",
   "id": "ac6d87d9",
   "metadata": {},
   "source": [
    "## Summary\n",
    "1. <b>Gaussian distribution</b>\n",
    "- If data is normally distributed, calculate upper and lower bound. (3*std dev). \n",
    "- Check both values. If lower is negtive and not applicable then discard it.\n",
    "- Replace all outliers with upper bound.\n",
    "\n",
    "\n",
    "2. <b>Features are Skewed </b>\n",
    "- If the data is skewed, calculate IRQ. \n",
    "- Calculate lower and upper bridge\n",
    "- Calculate extreme upper and lower brige by multiplying with (IRQ*3)\n",
    "- Replace all outliers with this highest value."
   ]
  },
  {
   "cell_type": "code",
   "execution_count": null,
   "id": "44f759b8",
   "metadata": {},
   "outputs": [],
   "source": []
  },
  {
   "cell_type": "code",
   "execution_count": 57,
   "id": "4a7d06fa",
   "metadata": {},
   "outputs": [],
   "source": [
    "from sklearn.model_selection import train_test_split\n",
    "X_train, X_test, y_train, y_test = train_test_split(data[[\"Age\",\"Fare\"]].fillna(0),data[\"Survived\"],test_size= 0.33) \n",
    "#as I have removed upper extreme, I will fillna as 0 (lower extreme)\n",
    "# Applying algorithms "
   ]
  },
  {
   "cell_type": "markdown",
   "id": "06f264ea",
   "metadata": {},
   "source": [
    "### Logistic regression - sensitive"
   ]
  },
  {
   "cell_type": "code",
   "execution_count": 61,
   "id": "be4f3386",
   "metadata": {},
   "outputs": [
    {
     "name": "stdout",
     "output_type": "stream",
     "text": [
      "Accuracy score=0.6542372881355932\n",
      "ROC=0.6047058823529412\n"
     ]
    }
   ],
   "source": [
    "from sklearn.linear_model import LogisticRegression\n",
    "classifier= LogisticRegression()\n",
    "classifier.fit(X_train, y_train)\n",
    "y_pred=classifier.predict(X_test)\n",
    "y_pred1= classifier.predict_proba(X_test)\n",
    "\n",
    "from sklearn.metrics import accuracy_score, roc_auc_score\n",
    "print(\"Accuracy score={}\".format(accuracy_score(y_test, y_pred)))\n",
    "print(\"ROC={}\".format(roc_auc_score(y_test, y_pred)))"
   ]
  },
  {
   "cell_type": "markdown",
   "id": "a939f6b1",
   "metadata": {},
   "source": [
    "### Ensemble technique: Random Forest- Not sensitive to outliers\n"
   ]
  },
  {
   "cell_type": "code",
   "execution_count": 67,
   "id": "a5b3d22f",
   "metadata": {},
   "outputs": [
    {
     "name": "stdout",
     "output_type": "stream",
     "text": [
      "Accuracy score=0.6576271186440678\n",
      "ROC=0.6298823529411766\n"
     ]
    }
   ],
   "source": [
    "\n",
    "from sklearn.ensemble import RandomForestClassifier\n",
    "classifier= RandomForestClassifier()\n",
    "classifier.fit(X_train, y_train)\n",
    "y_pred=classifier.predict(X_test)\n",
    "y_pred1= classifier.predict_proba(X_test)\n",
    "\n",
    "from sklearn.metrics import accuracy_score, roc_auc_score\n",
    "print(\"Accuracy score={}\".format(accuracy_score(y_test, y_pred)))\n",
    "print(\"ROC={}\".format(roc_auc_score(y_test, y_pred)))\n",
    "\n",
    "#as random forest is not sensitive to ouliers, we get much better accuracy. "
   ]
  },
  {
   "cell_type": "code",
   "execution_count": null,
   "id": "8e45acff",
   "metadata": {},
   "outputs": [],
   "source": [
    "# try out for other "
   ]
  }
 ],
 "metadata": {
  "kernelspec": {
   "display_name": "Python 3 (ipykernel)",
   "language": "python",
   "name": "python3"
  },
  "language_info": {
   "codemirror_mode": {
    "name": "ipython",
    "version": 3
   },
   "file_extension": ".py",
   "mimetype": "text/x-python",
   "name": "python",
   "nbconvert_exporter": "python",
   "pygments_lexer": "ipython3",
   "version": "3.8.8"
  }
 },
 "nbformat": 4,
 "nbformat_minor": 5
}
